{
 "cells": [
  {
   "cell_type": "code",
   "execution_count": 2,
   "metadata": {},
   "outputs": [
    {
     "name": "stdout",
     "output_type": "stream",
     "text": [
      "2.19.0\n"
     ]
    }
   ],
   "source": [
    "import tensorflow as tf\n",
    "print(tf.__version__)"
   ]
  },
  {
   "cell_type": "code",
   "execution_count": 3,
   "id": "2eb42392",
   "metadata": {},
   "outputs": [],
   "source": [
    "scalar = tf.constant(5)\n",
    "vector = tf.constant([1, 2, 3])\n",
    "matrix = tf.constant([[1, 2, 3], [4, 5, 6]])"
   ]
  },
  {
   "cell_type": "code",
   "execution_count": 4,
   "id": "85037e37",
   "metadata": {},
   "outputs": [
    {
     "name": "stdout",
     "output_type": "stream",
     "text": [
      "tf.Tensor(5, shape=(), dtype=int32)\n",
      "tf.Tensor([1 2 3], shape=(3,), dtype=int32)\n",
      "tf.Tensor(\n",
      "[[1 2 3]\n",
      " [4 5 6]], shape=(2, 3), dtype=int32)\n"
     ]
    }
   ],
   "source": [
    "print(scalar)\n",
    "print(vector)\n",
    "print(matrix)"
   ]
  },
  {
   "cell_type": "code",
   "execution_count": 5,
   "id": "73715d45",
   "metadata": {},
   "outputs": [],
   "source": [
    "variable = tf.Variable([[1.0, 2.0], [3.0, 4.0]])\n"
   ]
  },
  {
   "cell_type": "code",
   "execution_count": 6,
   "id": "ab4c363d",
   "metadata": {},
   "outputs": [
    {
     "name": "stdout",
     "output_type": "stream",
     "text": [
      "<tf.Variable 'Variable:0' shape=(2, 2) dtype=float32, numpy=\n",
      "array([[1., 2.],\n",
      "       [3., 4.]], dtype=float32)>\n"
     ]
    }
   ],
   "source": [
    "print(variable)"
   ]
  },
  {
   "cell_type": "code",
   "execution_count": 7,
   "id": "de5b1c5c",
   "metadata": {},
   "outputs": [],
   "source": [
    "random_tensor = tf.random.uniform(shape=(2, 3), minval=0, maxval=10, dtype=tf.int32)"
   ]
  },
  {
   "cell_type": "code",
   "execution_count": 8,
   "id": "8cb2e758",
   "metadata": {},
   "outputs": [
    {
     "name": "stdout",
     "output_type": "stream",
     "text": [
      "tf.Tensor(\n",
      "[[6 8 2]\n",
      " [3 9 0]], shape=(2, 3), dtype=int32)\n"
     ]
    }
   ],
   "source": [
    "print(random_tensor)"
   ]
  },
  {
   "cell_type": "code",
   "execution_count": 9,
   "id": "4bc2affd",
   "metadata": {},
   "outputs": [
    {
     "name": "stdout",
     "output_type": "stream",
     "text": [
      "tf.Tensor(\n",
      "[[6 8 2]\n",
      " [3 9 0]], shape=(2, 3), dtype=int32)\n"
     ]
    }
   ],
   "source": [
    "print(random_tensor)"
   ]
  },
  {
   "cell_type": "code",
   "execution_count": 10,
   "id": "2e4ef2fb",
   "metadata": {},
   "outputs": [
    {
     "name": "stdout",
     "output_type": "stream",
     "text": [
      "Tensor:\n",
      " tf.Tensor(\n",
      "[[1 2 3]\n",
      " [4 5 6]], shape=(2, 3), dtype=int32)\n",
      "Shape: (2, 3)\n",
      "Data Type: <dtype: 'int32'>\n",
      "Rank: 2\n"
     ]
    }
   ],
   "source": [
    "# Creating a 2x3 matrix tensor\n",
    "matrix = tf.constant([[1, 2, 3], [4, 5, 6]])\n",
    "\n",
    "print(\"Tensor:\\n\", matrix)\n",
    "print(\"Shape:\", matrix.shape)\n",
    "print(\"Data Type:\", matrix.dtype)\n",
    "print(\"Rank:\", tf.rank(matrix).numpy())"
   ]
  },
  {
   "cell_type": "code",
   "execution_count": null,
   "id": "073ce38d",
   "metadata": {},
   "outputs": [],
   "source": []
  },
  {
   "cell_type": "markdown",
   "id": "71e3c893",
   "metadata": {},
   "source": [
    "Manipulating Tensor Shapes:\n",
    "TensorFlow provides several operations to reshape and manipulate tensors:"
   ]
  },
  {
   "cell_type": "markdown",
   "id": "c149b8fb",
   "metadata": {},
   "source": [
    "#Reshape: Change the shape of a tensor without altering its data.\n",
    "reshaped = tf.reshape(tensor, new_shape)"
   ]
  },
  {
   "cell_type": "markdown",
   "id": "d3431249",
   "metadata": {},
   "source": [
    "#Expand Dimensions: Add a new axis.\n",
    "expanded = tf.expand_dims(tensor, axis=0)"
   ]
  },
  {
   "cell_type": "markdown",
   "id": "5691eeb0",
   "metadata": {},
   "source": [
    "#Squeeze Dimensions: Remove axes of size 1.\n",
    "squeezed = tf.squeeze(tensor, axis=0)"
   ]
  },
  {
   "cell_type": "markdown",
   "id": "47b7afe2",
   "metadata": {},
   "source": [
    "#Transpose: Permute the dimensions of a tensor.\n",
    "transposed = tf.transpose(tensor, perm=[1, 0, 2])"
   ]
  },
  {
   "cell_type": "code",
   "execution_count": 12,
   "id": "ce908e78",
   "metadata": {},
   "outputs": [],
   "source": [
    "# Creating a tensor with a specific data type\n",
    "float_tensor = tf.constant([1.0, 2.0, 3.0], dtype=tf.float32)\n",
    "int_tensor = tf.constant([1, 2, 3], dtype=tf.int32)\n",
    "bool_tensor = tf.constant([True, False, True], dtype=tf.bool)"
   ]
  },
  {
   "cell_type": "markdown",
   "id": "0f03e657",
   "metadata": {},
   "source": [
    "Casting Between Data Types:\n",
    "\n",
    "TensorFlow allows for casting tensors from one data type to another using the tf.cast function:"
   ]
  },
  {
   "cell_type": "code",
   "execution_count": 13,
   "id": "d5946501",
   "metadata": {},
   "outputs": [],
   "source": [
    "# Casting float tensor to int tensor\n",
    "casted_tensor = tf.cast(float_tensor, dtype=tf.int32)"
   ]
  },
  {
   "cell_type": "code",
   "execution_count": 14,
   "id": "81f9909d",
   "metadata": {},
   "outputs": [
    {
     "name": "stdout",
     "output_type": "stream",
     "text": [
      "tf.Tensor([1 2 3], shape=(3,), dtype=int32)\n"
     ]
    }
   ],
   "source": [
    "print(casted_tensor)"
   ]
  },
  {
   "cell_type": "code",
   "execution_count": 15,
   "id": "ef0baea4",
   "metadata": {},
   "outputs": [
    {
     "name": "stdout",
     "output_type": "stream",
     "text": [
      "Tensor:\n",
      " tf.Tensor(\n",
      "[[[[255]\n",
      "   [  0]\n",
      "   [127]]\n",
      "\n",
      "  [[255]\n",
      "   [  0]\n",
      "   [127]]\n",
      "\n",
      "  [[255]\n",
      "   [  0]\n",
      "   [127]]]\n",
      "\n",
      "\n",
      " [[[255]\n",
      "   [  0]\n",
      "   [127]]\n",
      "\n",
      "  [[255]\n",
      "   [  0]\n",
      "   [127]]\n",
      "\n",
      "  [[255]\n",
      "   [  0]\n",
      "   [127]]]], shape=(2, 3, 3, 1), dtype=uint8)\n",
      "Shape: (2, 3, 3, 1)\n",
      "Data Type: <dtype: 'uint8'>\n",
      "Rank: 4\n",
      "Reshaped Tensor:\n",
      " tf.Tensor(\n",
      "[[255   0 127 255   0 127 255   0 127]\n",
      " [255   0 127 255   0 127 255   0 127]], shape=(2, 9), dtype=uint8)\n",
      "New Shape: (2, 9)\n"
     ]
    }
   ],
   "source": [
    "# Creating a 3-D tensor (batch of 2 images, 3x3 pixels, 1 channel)\n",
    "tensor = tf.constant([\n",
    "    [[[255], [0], [127]],\n",
    "     [[255], [0], [127]],\n",
    "     [[255], [0], [127]]],\n",
    "    \n",
    "    [[[255], [0], [127]],\n",
    "     [[255], [0], [127]],\n",
    "     [[255], [0], [127]]]\n",
    "], dtype=tf.uint8)\n",
    "\n",
    "print(\"Tensor:\\n\", tensor)\n",
    "print(\"Shape:\", tensor.shape)\n",
    "print(\"Data Type:\", tensor.dtype)\n",
    "print(\"Rank:\", tf.rank(tensor).numpy())\n",
    "\n",
    "# Reshaping the tensor to flatten the images\n",
    "reshaped_tensor = tf.reshape(tensor, (2, 9))\n",
    "print(\"Reshaped Tensor:\\n\", reshaped_tensor)\n",
    "print(\"New Shape:\", reshaped_tensor.shape)"
   ]
  },
  {
   "cell_type": "code",
   "execution_count": null,
   "id": "b0c9956f",
   "metadata": {},
   "outputs": [],
   "source": []
  },
  {
   "cell_type": "markdown",
   "id": "9952c48b",
   "metadata": {},
   "source": [
    "Arithmetic Operations\n",
    "TensorFlow supports a wide range of arithmetic operations that can be performed element-wise or through matrix operations.\n",
    "\n",
    "Element-Wise Operations:"
   ]
  },
  {
   "cell_type": "markdown",
   "id": "31f64be3",
   "metadata": {},
   "source": []
  },
  {
   "cell_type": "code",
   "execution_count": 16,
   "id": "e764725b",
   "metadata": {},
   "outputs": [
    {
     "name": "stdout",
     "output_type": "stream",
     "text": [
      "tf.Tensor([5 7 9], shape=(3,), dtype=int32)\n"
     ]
    }
   ],
   "source": [
    "# Addition (tf.add or +):\n",
    "a = tf.constant([1, 2, 3])\n",
    "b = tf.constant([4, 5, 6])\n",
    "c = tf.add(a, b)\n",
    "# Alternatively: c = a + b\n",
    "print(c)  # Output: [5, 7, 9]"
   ]
  },
  {
   "cell_type": "code",
   "execution_count": 17,
   "id": "87851bcd",
   "metadata": {},
   "outputs": [
    {
     "name": "stdout",
     "output_type": "stream",
     "text": [
      "tf.Tensor([-3 -3 -3], shape=(3,), dtype=int32)\n"
     ]
    }
   ],
   "source": [
    "# Subtraction (tf.subtract or -):\n",
    "c = tf.subtract(a, b)\n",
    "# Alternatively: c = a - b\n",
    "print(c)  # Output: [-3, -3, -3]"
   ]
  },
  {
   "cell_type": "code",
   "execution_count": 18,
   "id": "2638518e",
   "metadata": {},
   "outputs": [
    {
     "name": "stdout",
     "output_type": "stream",
     "text": [
      "tf.Tensor([ 4 10 18], shape=(3,), dtype=int32)\n"
     ]
    }
   ],
   "source": [
    "# Multiplication (tf.multiply or *):\n",
    "c = tf.multiply(a, b)\n",
    "# Alternatively: c = a * b\n",
    "print(c)  # Output: [4, 10, 18]"
   ]
  },
  {
   "cell_type": "code",
   "execution_count": 20,
   "id": "2619917b",
   "metadata": {},
   "outputs": [
    {
     "name": "stdout",
     "output_type": "stream",
     "text": [
      "tf.Tensor([4.  2.5 2. ], shape=(3,), dtype=float64)\n"
     ]
    }
   ],
   "source": [
    "# Division (tf.divide or /):\n",
    "c = tf.divide(b, a)\n",
    "# Alternatively: c = b / a\n",
    "print(c)  # Output: [4.0, 2.5, 2.0]"
   ]
  },
  {
   "cell_type": "markdown",
   "id": "106850b3",
   "metadata": {},
   "source": [
    "Matrix Operations:"
   ]
  },
  {
   "cell_type": "code",
   "execution_count": 21,
   "id": "e6707582",
   "metadata": {},
   "outputs": [
    {
     "name": "stdout",
     "output_type": "stream",
     "text": [
      "tf.Tensor(\n",
      "[[19 22]\n",
      " [43 50]], shape=(2, 2), dtype=int32)\n"
     ]
    }
   ],
   "source": [
    "# Matrix Multiplication (tf.matmul):\n",
    "matrix1 = tf.constant([[1, 2], [3, 4]])\n",
    "matrix2 = tf.constant([[5, 6], [7, 8]])\n",
    "product = tf.matmul(matrix1, matrix2)\n",
    "print(product)\n",
    "# Output:\n",
    "# [[19 22]\n",
    "#  [43 50]]"
   ]
  },
  {
   "cell_type": "code",
   "execution_count": 22,
   "id": "891fb067",
   "metadata": {},
   "outputs": [
    {
     "name": "stdout",
     "output_type": "stream",
     "text": [
      "tf.Tensor(\n",
      "[[1 3]\n",
      " [2 4]], shape=(2, 2), dtype=int32)\n"
     ]
    }
   ],
   "source": [
    "# Transpose (tf.transpose):\n",
    "transposed = tf.transpose(matrix1)\n",
    "print(transposed)\n",
    "# Output:\n",
    "# [[1 3]\n",
    "#  [2 4]]"
   ]
  },
  {
   "cell_type": "markdown",
   "id": "e4df850d",
   "metadata": {},
   "source": [
    "Reshaping Tensors\n",
    "Reshaping changes the structure of a tensor without altering its data. This is particularly useful when preparing data for different layers in a neural network."
   ]
  },
  {
   "cell_type": "code",
   "execution_count": 23,
   "id": "6fde1826",
   "metadata": {},
   "outputs": [
    {
     "name": "stdout",
     "output_type": "stream",
     "text": [
      "Original Shape: (2, 3)\n",
      "Reshaped Tensor:\n",
      " tf.Tensor(\n",
      "[[1 2]\n",
      " [3 4]\n",
      " [5 6]], shape=(3, 2), dtype=int32)\n",
      "New Shape: (3, 2)\n"
     ]
    }
   ],
   "source": [
    "# Original tensor of shape (2, 3)\n",
    "tensor = tf.constant([[1, 2, 3], [4, 5, 6]])\n",
    "print(\"Original Shape:\", tensor.shape)  # (2, 3)\n",
    "\n",
    "# Reshaping to (3, 2)\n",
    "reshaped = tf.reshape(tensor, (3, 2))\n",
    "print(\"Reshaped Tensor:\\n\", reshaped)\n",
    "print(\"New Shape:\", reshaped.shape)  # (3, 2)"
   ]
  },
  {
   "cell_type": "markdown",
   "id": "81d0a707",
   "metadata": {},
   "source": [
    "Slicing and Indexing\n",
    "Slicing allows you to extract specific parts of a tensor, which is essential for tasks like data augmentation and preprocessing."
   ]
  },
  {
   "cell_type": "code",
   "execution_count": 24,
   "id": "98100edb",
   "metadata": {},
   "outputs": [
    {
     "name": "stdout",
     "output_type": "stream",
     "text": [
      "Sliced Tensor:\n",
      " tf.Tensor(\n",
      "[[[1 2]\n",
      "  [3 4]]\n",
      "\n",
      " [[5 6]\n",
      "  [7 8]]], shape=(2, 2, 2), dtype=int32)\n",
      "Specific Element: tf.Tensor(8, shape=(), dtype=int32)\n"
     ]
    }
   ],
   "source": [
    "# Creating a 3-D tensor\n",
    "tensor = tf.constant([\n",
    "    [[1, 2], [3, 4]],\n",
    "    [[5, 6], [7, 8]],\n",
    "    [[9, 10], [11, 12]]\n",
    "])\n",
    "\n",
    "# Slicing the first two matrices\n",
    "sliced = tensor[:2]\n",
    "print(\"Sliced Tensor:\\n\", sliced)\n",
    "\n",
    "# Accessing a specific element\n",
    "element = tensor[1, 1, 1]\n",
    "print(\"Specific Element:\", element)  # Output: 8"
   ]
  },
  {
   "cell_type": "markdown",
   "id": "75c7f229",
   "metadata": {},
   "source": [
    "\n",
    "Broadcasting\n",
    "Broadcasting is a technique that allows TensorFlow to perform operations on tensors of different shapes by automatically expanding their dimensions to make them compatible."
   ]
  },
  {
   "cell_type": "code",
   "execution_count": 25,
   "id": "c26d507e",
   "metadata": {},
   "outputs": [
    {
     "name": "stdout",
     "output_type": "stream",
     "text": [
      "Broadcasted Tensor:\n",
      " tf.Tensor(\n",
      "[[11 21 31 41]\n",
      " [12 22 32 42]\n",
      " [13 23 33 43]], shape=(3, 4), dtype=int32)\n"
     ]
    }
   ],
   "source": [
    "# Tensor A of shape (3, 1)\n",
    "A = tf.constant([[1], [2], [3]])\n",
    "\n",
    "# Tensor B of shape (1, 4)\n",
    "B = tf.constant([[10, 20, 30, 40]])\n",
    "\n",
    "# Broadcasting to shape (3, 4)\n",
    "C = A + B\n",
    "print(\"Broadcasted Tensor:\\n\", C)"
   ]
  },
  {
   "cell_type": "markdown",
   "id": "fe873ee1",
   "metadata": {},
   "source": [
    "Reduction Operations\n",
    "Reduction operations summarize the elements of a tensor along specific dimensions.\n"
   ]
  },
  {
   "cell_type": "code",
   "execution_count": 26,
   "id": "eb66d0c9",
   "metadata": {},
   "outputs": [
    {
     "name": "stdout",
     "output_type": "stream",
     "text": [
      "Sum All: tf.Tensor(10, shape=(), dtype=int32)\n",
      "Sum Axis 0: tf.Tensor([4 6], shape=(2,), dtype=int32)\n",
      "Sum Axis 1: tf.Tensor([3 7], shape=(2,), dtype=int32)\n"
     ]
    }
   ],
   "source": [
    "#Sum (tf.reduce_sum):\n",
    "tensor = tf.constant([[1, 2], [3, 4]])\n",
    "sum_all = tf.reduce_sum(tensor)\n",
    "sum_axis0 = tf.reduce_sum(tensor, axis=0)\n",
    "sum_axis1 = tf.reduce_sum(tensor, axis=1)\n",
    "print(\"Sum All:\", sum_all)           # 10\n",
    "print(\"Sum Axis 0:\", sum_axis0)     # [4, 6]\n",
    "print(\"Sum Axis 1:\", sum_axis1)     # [3, 7]"
   ]
  },
  {
   "cell_type": "code",
   "execution_count": 27,
   "id": "56e97b7b",
   "metadata": {},
   "outputs": [
    {
     "name": "stdout",
     "output_type": "stream",
     "text": [
      "Mean All: tf.Tensor(2, shape=(), dtype=int32)\n"
     ]
    }
   ],
   "source": [
    "# Mean (tf.reduce_mean):\n",
    "mean_all = tf.reduce_mean(tensor)\n",
    "print(\"Mean All:\", mean_all)         # 2.5"
   ]
  },
  {
   "cell_type": "code",
   "execution_count": 28,
   "id": "7706a7b7",
   "metadata": {},
   "outputs": [
    {
     "name": "stdout",
     "output_type": "stream",
     "text": [
      "Max All: tf.Tensor(4, shape=(), dtype=int32)\n"
     ]
    }
   ],
   "source": [
    "# Maximum (tf.reduce_max):\n",
    "max_all = tf.reduce_max(tensor)\n",
    "print(\"Max All:\", max_all)           # 4"
   ]
  },
  {
   "cell_type": "markdown",
   "id": "b3159c11",
   "metadata": {},
   "source": [
    "Reshaping and Expanding Dimensions\n",
    "Altering the shape of tensors is often necessary to align data for specific operations or neural network layers."
   ]
  },
  {
   "cell_type": "code",
   "execution_count": 29,
   "id": "c9388568",
   "metadata": {},
   "outputs": [
    {
     "name": "stdout",
     "output_type": "stream",
     "text": [
      "Normal Tensor Shape (2, 3)\n",
      "Expanded Tensor Shape: (2, 3, 1)\n",
      "Squeezed Tensor Shape: (2, 3)\n"
     ]
    }
   ],
   "source": [
    "# Original tensor of shape (2, 3)\n",
    "tensor = tf.constant([[1, 2, 3], [4, 5, 6]])\n",
    "print(\"Normal Tensor Shape\", tensor.shape)\n",
    "\n",
    "# Adding a new axis to make it (2, 3, 1)\n",
    "expanded = tf.expand_dims(tensor, axis=-1)\n",
    "print(\"Expanded Tensor Shape:\", expanded.shape)  # (2, 3, 1)\n",
    "\n",
    "# Removing the added axis\n",
    "squeezed = tf.squeeze(expanded, axis=-1)\n",
    "print(\"Squeezed Tensor Shape:\", squeezed.shape)  # (2, 3)\n"
   ]
  },
  {
   "cell_type": "markdown",
   "id": "f61ba2fc",
   "metadata": {},
   "source": [
    "Concatenation and Stacking\n",
    "Combining tensors is a common operation, especially when dealing with batches of data.\n"
   ]
  },
  {
   "cell_type": "code",
   "execution_count": 30,
   "id": "aa943d4a",
   "metadata": {},
   "outputs": [
    {
     "name": "stdout",
     "output_type": "stream",
     "text": [
      "Concatenated along axis 0:\n",
      " tf.Tensor(\n",
      "[[1 2]\n",
      " [3 4]\n",
      " [5 6]\n",
      " [7 8]], shape=(4, 2), dtype=int32)\n",
      "Concatenated along axis 1:\n",
      " tf.Tensor(\n",
      "[[1 2 5 6]\n",
      " [3 4 7 8]], shape=(2, 4), dtype=int32)\n"
     ]
    }
   ],
   "source": [
    "# Concatenation (tf.concat):\n",
    "tensor1 = tf.constant([[1, 2], [3, 4]])\n",
    "tensor2 = tf.constant([[5, 6], [7, 8]])\n",
    "\n",
    "# Concatenate along axis 0\n",
    "concat_axis0 = tf.concat([tensor1, tensor2], axis=0)\n",
    "print(\"Concatenated along axis 0:\\n\", concat_axis0)\n",
    "\n",
    "# Concatenate along axis 1\n",
    "concat_axis1 = tf.concat([tensor1, tensor2], axis=1)\n",
    "print(\"Concatenated along axis 1:\\n\", concat_axis1)"
   ]
  },
  {
   "cell_type": "code",
   "execution_count": 31,
   "id": "c4ba58ce",
   "metadata": {},
   "outputs": [
    {
     "name": "stdout",
     "output_type": "stream",
     "text": [
      "Stacked Tensor:\n",
      " tf.Tensor(\n",
      "[[[1 2]\n",
      "  [3 4]]\n",
      "\n",
      " [[5 6]\n",
      "  [7 8]]], shape=(2, 2, 2), dtype=int32)\n",
      "Stacked Shape: (2, 2, 2)\n"
     ]
    }
   ],
   "source": [
    "#  Stacking (tf.stack):\n",
    "# Stack tensors along a new axis\n",
    "stacked = tf.stack([tensor1, tensor2], axis=0)\n",
    "print(\"Stacked Tensor:\\n\", stacked)\n",
    "print(\"Stacked Shape:\", stacked.shape)  # (2, 2, 2)"
   ]
  },
  {
   "cell_type": "markdown",
   "id": "e7e11d76",
   "metadata": {},
   "source": [
    "Advanced Operations\n",
    "While basic operations are essential, TensorFlow also offers advanced operations for more complex data manipulations."
   ]
  },
  {
   "cell_type": "code",
   "execution_count": 32,
   "id": "ac061780",
   "metadata": {},
   "outputs": [
    {
     "name": "stdout",
     "output_type": "stream",
     "text": [
      "One-Hot Encoded Tensor:\n",
      " tf.Tensor(\n",
      "[[1. 0. 0.]\n",
      " [0. 1. 0.]\n",
      " [0. 0. 1.]\n",
      " [0. 1. 0.]], shape=(4, 3), dtype=float32)\n"
     ]
    }
   ],
   "source": [
    "# One-Hot Encoding (tf.one_hot):\n",
    "indices = tf.constant([0, 1, 2, 1])\n",
    "depth = 3\n",
    "one_hot = tf.one_hot(indices, depth)\n",
    "print(\"One-Hot Encoded Tensor:\\n\", one_hot)"
   ]
  },
  {
   "cell_type": "code",
   "execution_count": 33,
   "id": "ed202fd5",
   "metadata": {},
   "outputs": [
    {
     "name": "stdout",
     "output_type": "stream",
     "text": [
      "Inverse of Matrix:\n",
      " tf.Tensor(\n",
      "[[-2.0000002   1.0000001 ]\n",
      " [ 1.5000001  -0.50000006]], shape=(2, 2), dtype=float32)\n"
     ]
    }
   ],
   "source": [
    "# Matrix Inversion (tf.linalg.inv):\n",
    "matrix = tf.constant([[1., 2.], [3., 4.]])\n",
    "inverse = tf.linalg.inv(matrix)\n",
    "print(\"Inverse of Matrix:\\n\", inverse)"
   ]
  },
  {
   "cell_type": "code",
   "execution_count": 34,
   "id": "7e1260ca",
   "metadata": {},
   "outputs": [
    {
     "name": "stdout",
     "output_type": "stream",
     "text": [
      "Eigenvalues: tf.Tensor([-0.37228122+0.j  5.372281  +0.j], shape=(2,), dtype=complex64)\n",
      "Eigenvectors:\n",
      " tf.Tensor(\n",
      "[[-0.8245648 +0.j -0.41597357+0.j]\n",
      " [ 0.56576747+0.j -0.90937674+0.j]], shape=(2, 2), dtype=complex64)\n"
     ]
    }
   ],
   "source": [
    "# Eigenvalues and Eigenvectors (tf.linalg.eig):\n",
    "matrix = tf.constant([[1., 2.], [3., 4.]])\n",
    "eigenvalues, eigenvectors = tf.linalg.eig(matrix)\n",
    "print(\"Eigenvalues:\", eigenvalues)\n",
    "print(\"Eigenvectors:\\n\", eigenvectors)"
   ]
  },
  {
   "cell_type": "code",
   "execution_count": null,
   "id": "453ad37f",
   "metadata": {},
   "outputs": [],
   "source": []
  },
  {
   "cell_type": "code",
   "execution_count": 35,
   "id": "e38cb940",
   "metadata": {},
   "outputs": [
    {
     "name": "stdout",
     "output_type": "stream",
     "text": [
      "Addition:\n",
      " tf.Tensor(\n",
      "[[ 6  8]\n",
      " [10 12]], shape=(2, 2), dtype=int32)\n",
      "Element-Wise Multiplication:\n",
      " tf.Tensor(\n",
      "[[ 5 12]\n",
      " [21 32]], shape=(2, 2), dtype=int32)\n",
      "Matrix Product:\n",
      " tf.Tensor(\n",
      "[[19 22]\n",
      " [43 50]], shape=(2, 2), dtype=int32)\n",
      "Reshaped Tensor:\n",
      " tf.Tensor(\n",
      "[[1]\n",
      " [2]\n",
      " [3]\n",
      " [4]], shape=(4, 1), dtype=int32)\n",
      "Sliced Tensor: tf.Tensor([2 4], shape=(2,), dtype=int32)\n",
      "Sum of All Elements: tf.Tensor(10, shape=(), dtype=int32)\n"
     ]
    }
   ],
   "source": [
    "\n",
    "\n",
    "# Creating two tensors\n",
    "a = tf.constant([[1, 2], [3, 4]])\n",
    "b = tf.constant([[5, 6], [7, 8]])\n",
    "\n",
    "# Arithmetic Operations\n",
    "addition = a + b\n",
    "multiplication = a * b\n",
    "matrix_product = tf.matmul(a, b)\n",
    "\n",
    "print(\"Addition:\\n\", addition)\n",
    "print(\"Element-Wise Multiplication:\\n\", multiplication)\n",
    "print(\"Matrix Product:\\n\", matrix_product)\n",
    "\n",
    "# Reshaping\n",
    "reshaped = tf.reshape(a, (4, 1))\n",
    "print(\"Reshaped Tensor:\\n\", reshaped)\n",
    "\n",
    "# Slicing\n",
    "sliced = a[:, 1]\n",
    "print(\"Sliced Tensor:\", sliced)\n",
    "\n",
    "# Reduction\n",
    "sum_all = tf.reduce_sum(a)\n",
    "print(\"Sum of All Elements:\", sum_all)"
   ]
  },
  {
   "cell_type": "code",
   "execution_count": null,
   "id": "0c60dab2",
   "metadata": {},
   "outputs": [],
   "source": []
  },
  {
   "cell_type": "markdown",
   "id": "dadb9606",
   "metadata": {},
   "source": [
    "Constants\n",
    "A Constant in TensorFlow is an immutable tensor whose value cannot be changed after it is defined. Constants are used to hold fixed values that do not need to be updated during the execution of the computational graph, such as weights in certain layers or fixed hyperparameters."
   ]
  },
  {
   "cell_type": "code",
   "execution_count": 36,
   "id": "839f8839",
   "metadata": {},
   "outputs": [
    {
     "name": "stdout",
     "output_type": "stream",
     "text": [
      "Constant Tensor: tf.Tensor([1 2 3], shape=(3,), dtype=int32)\n"
     ]
    }
   ],
   "source": [
    "import tensorflow as tf\n",
    "\n",
    "# Creating a constant tensor\n",
    "const_tensor = tf.constant([1, 2, 3], dtype=tf.int32)\n",
    "print(\"Constant Tensor:\", const_tensor)"
   ]
  },
  {
   "cell_type": "markdown",
   "id": "1aee6337",
   "metadata": {},
   "source": [
    "A Variable in TensorFlow is a mutable tensor that can be updated during the execution of the computational graph. Variables are typically used to store and update the parameters of machine learning models, such as weights and biases, during training.\n"
   ]
  },
  {
   "cell_type": "code",
   "execution_count": 37,
   "id": "aff8e9f0",
   "metadata": {},
   "outputs": [
    {
     "name": "stdout",
     "output_type": "stream",
     "text": [
      "Variable Tensor: <tf.Variable 'Variable:0' shape=(3,) dtype=float32, numpy=array([1., 2., 3.], dtype=float32)>\n"
     ]
    }
   ],
   "source": [
    "# Creating a variable tensor\n",
    "var_tensor = tf.Variable([1.0, 2.0, 3.0], dtype=tf.float32)\n",
    "print(\"Variable Tensor:\", var_tensor)"
   ]
  },
  {
   "cell_type": "code",
   "execution_count": 38,
   "id": "771a29fa",
   "metadata": {},
   "outputs": [],
   "source": [
    "# Initializing a variable with zeros\n",
    "var_zero = tf.Variable(tf.zeros([2, 3]), name='zero_initializer')\n",
    "\n",
    "# Initializing a variable with random values\n",
    "var_random = tf.Variable(tf.random.normal([2, 3]), name='random_initializer')"
   ]
  },
  {
   "cell_type": "code",
   "execution_count": 39,
   "id": "e1afb2d6",
   "metadata": {},
   "outputs": [],
   "source": [
    "weight = tf.Variable(tf.random.normal([784, 256]), name='weights')\n",
    "bias = tf.constant([0.1] * 256, dtype=tf.float32, name='biases')"
   ]
  },
  {
   "cell_type": "code",
   "execution_count": 40,
   "id": "d288da87",
   "metadata": {},
   "outputs": [],
   "source": [
    "with tf.name_scope('layer1'):\n",
    "    weights = tf.Variable(tf.random.normal([784, 256]), name='weights')\n",
    "    biases = tf.constant([0.1] * 256, dtype=tf.float32, name='biases')"
   ]
  },
  {
   "cell_type": "code",
   "execution_count": 41,
   "id": "8cc6de16",
   "metadata": {},
   "outputs": [
    {
     "name": "stdout",
     "output_type": "stream",
     "text": [
      "Epoch 0: Loss = 30.0, W = [[0.29999998]], b = [0.09999999]\n",
      "Epoch 100: Loss = 0.03408462926745415, W = [[1.8468075]], b = [0.45040485]\n",
      "Epoch 200: Loss = 0.01871202513575554, W = [[1.8864939]], b = [0.33372158]\n",
      "Epoch 300: Loss = 0.010272666811943054, W = [[1.9158992]], b = [0.24726659]\n",
      "Epoch 400: Loss = 0.005639578215777874, W = [[1.9376867]], b = [0.18320896]\n",
      "Epoch 500: Loss = 0.0030960547737777233, W = [[1.9538298]], b = [0.13574634]\n",
      "Epoch 600: Loss = 0.001699708285741508, W = [[1.9657906]], b = [0.10057957]\n",
      "Epoch 700: Loss = 0.0009331251494586468, W = [[1.974653]], b = [0.0745233]\n",
      "Epoch 800: Loss = 0.0005122720031067729, W = [[1.9812194]], b = [0.05521719]\n",
      "Epoch 900: Loss = 0.00028123249649070203, W = [[1.9860847]], b = [0.04091255]\n",
      "Trained Weights: [[1.9896587]]\n",
      "Trained Bias: [0.03040474]\n"
     ]
    }
   ],
   "source": [
    "import tensorflow as tf\n",
    "\n",
    "# Define Constants for input data\n",
    "X = tf.constant([[1.0], [2.0], [3.0], [4.0]], dtype=tf.float32)  # Input features\n",
    "Y = tf.constant([[2.0], [4.0], [6.0], [8.0]], dtype=tf.float32)  # Target values\n",
    "\n",
    "# Define Variables for model parameters (weights and bias)\n",
    "W = tf.Variable([[0.0]], dtype=tf.float32, name='weight')\n",
    "b = tf.Variable([0.0], dtype=tf.float32, name='bias')\n",
    "\n",
    "# Define the linear model\n",
    "def linear_model(X):\n",
    "    return tf.matmul(X, W) + b\n",
    "\n",
    "# Define the loss function (Mean Squared Error)\n",
    "def loss_fn(y_pred, y_true):\n",
    "    return tf.reduce_mean(tf.square(y_pred - y_true))\n",
    "\n",
    "# Define the optimizer\n",
    "optimizer = tf.optimizers.SGD(learning_rate=0.01)\n",
    "\n",
    "# Training loop\n",
    "for epoch in range(1000):\n",
    "    with tf.GradientTape() as tape:\n",
    "        y_pred = linear_model(X)\n",
    "        loss = loss_fn(y_pred, Y)\n",
    "    \n",
    "    # Compute gradients\n",
    "    gradients = tape.gradient(loss, [W, b])\n",
    "    \n",
    "    # Update variables\n",
    "    optimizer.apply_gradients(zip(gradients, [W, b]))\n",
    "    \n",
    "    if epoch % 100 == 0:\n",
    "        print(f\"Epoch {epoch}: Loss = {loss.numpy()}, W = {W.numpy()}, b = {b.numpy()}\")\n",
    "\n",
    "# Final model parameters\n",
    "print(\"Trained Weights:\", W.numpy())\n",
    "print(\"Trained Bias:\", b.numpy())"
   ]
  },
  {
   "cell_type": "code",
   "execution_count": 42,
   "id": "fbb3423f",
   "metadata": {},
   "outputs": [
    {
     "name": "stdout",
     "output_type": "stream",
     "text": [
      "Operation: tf.Tensor(5.0, shape=(), dtype=float32)\n"
     ]
    }
   ],
   "source": [
    "import tensorflow as tf\n",
    "\n",
    "# Define two constant tensors\n",
    "a = tf.constant(2.0)\n",
    "b = tf.constant(3.0)\n",
    "\n",
    "# Define an addition operation\n",
    "c = tf.add(a, b)\n",
    "print(\"Operation:\", c)"
   ]
  },
  {
   "cell_type": "markdown",
   "id": "4e16f452",
   "metadata": {},
   "source": [
    " Keras Input Layers:\n",
    "\n",
    "Use tf.keras.Input or tf.keras.layers.Input to define input tensors in Keras models."
   ]
  },
  {
   "cell_type": "code",
   "execution_count": null,
   "id": "f3e2d016",
   "metadata": {},
   "outputs": [],
   "source": [
    "from tensorflow.keras.layers import Input\n",
    "input_layer = Input(shape=(784,), name='input_layer')"
   ]
  },
  {
   "cell_type": "markdown",
   "id": "74822b78",
   "metadata": {},
   "source": [
    "Eager Execution with Direct Data Feeding:\n",
    "\n",
    "Directly pass data to functions and models without the need for placeholders."
   ]
  },
  {
   "cell_type": "code",
   "execution_count": null,
   "id": "e78863ca",
   "metadata": {},
   "outputs": [],
   "source": [
    "import tensorflow as tf\n",
    "\n",
    "# Define a simple operation\n",
    "def add(a, b):\n",
    "    return a + b\n",
    "\n",
    "# Execute the operation with actual data\n",
    "result = add(2.0, 3.0)\n",
    "print(result.numpy())  # Output: 5.0"
   ]
  },
  {
   "cell_type": "markdown",
   "id": "94489a6a",
   "metadata": {},
   "source": [
    "tf.function and Autograph:\n",
    "\n",
    "Decorate Python functions with @tf.function to compile them into optimized TensorFlow graphs, allowing for dynamic and flexible data inputs."
   ]
  },
  {
   "cell_type": "code",
   "execution_count": null,
   "id": "32ab1d81",
   "metadata": {},
   "outputs": [],
   "source": [
    "import tensorflow as tf\n",
    "\n",
    "@tf.function\n",
    "def compute(a, b):\n",
    "    return a * b + 2\n",
    "\n",
    "# Call the function with data\n",
    "print(compute(3.0, 4.0).numpy())  # Output: 14.0"
   ]
  },
  {
   "cell_type": "markdown",
   "id": "d964aed5",
   "metadata": {},
   "source": [
    "Data Pipelines with tf.data:\n",
    "\n",
    "Utilize the tf.data API to build efficient and scalable data input pipelines."
   ]
  },
  {
   "cell_type": "code",
   "execution_count": null,
   "id": "7f69633f",
   "metadata": {},
   "outputs": [],
   "source": [
    "import tensorflow as tf\n",
    "\n",
    "# Create a dataset\n",
    "dataset = tf.data.Dataset.from_tensor_slices((train_X, train_Y))\n",
    "dataset = dataset.batch(32)\n",
    "\n",
    "# Iterate over the dataset\n",
    "for batch_X, batch_Y in dataset:\n",
    "    # Perform training step\n",
    "    pass"
   ]
  },
  {
   "cell_type": "markdown",
   "id": "6e637a15",
   "metadata": {},
   "source": [
    "Direct Tensor Passing in Keras Models:\n",
    "\n",
    "Pass NumPy arrays or TensorFlow tensors directly to Keras models for training and inference."
   ]
  },
  {
   "cell_type": "code",
   "execution_count": null,
   "id": "b42b37d0",
   "metadata": {},
   "outputs": [],
   "source": [
    "from tensorflow.keras.models import Sequential\n",
    "from tensorflow.keras.layers import Dense\n",
    "import numpy as np\n",
    "\n",
    "# Define a simple model\n",
    "model = Sequential([\n",
    "    Dense(10, activation='relu', input_shape=(784,)),\n",
    "    Dense(1)\n",
    "])\n",
    "\n",
    "# Compile the model\n",
    "model.compile(optimizer='adam', loss='mean_squared_error')\n",
    "\n",
    "# Generate dummy data\n",
    "X = np.random.rand(100, 784)\n",
    "Y = np.random.rand(100, 1)\n",
    "\n",
    "# Train the model\n",
    "model.fit(X, Y, epochs=5)"
   ]
  },
  {
   "cell_type": "markdown",
   "id": "5f762f2e",
   "metadata": {},
   "source": [
    "Migrating from Placeholders to TensorFlow 2.x\n",
    "For developers transitioning from TensorFlow 1.x to 2.x, migrating code that utilizes Placeholders involves adopting the new data input mechanisms. Here's a step-by-step guide to refactoring code:\n",
    "\n",
    "Remove Placeholders:\n",
    "Eliminate the use of tf.placeholder and feed_dict by adopting direct data passing.\n",
    "Use Keras Input Layers:\n",
    "Define input layers using tf.keras.Input when building Keras models.\n",
    "Leverage tf.function:\n",
    "Decorate functions with @tf.function to enable graph execution where performance is critical.\n",
    "Adopt the tf.data API:\n",
    "Build data pipelines using the tf.data API for efficient data handling and preprocessing.\n",
    "Utilize Keras Model Training APIs:\n",
    "Use model.fit, model.evaluate, and model.predict to manage training, evaluation, and inference without manual session management."
   ]
  },
  {
   "cell_type": "markdown",
   "id": "819092f7",
   "metadata": {},
   "source": [
    "Example Migration:\n",
    "\n",
    "TensorFlow 1.x Code with Placeholders:"
   ]
  },
  {
   "cell_type": "code",
   "execution_count": null,
   "id": "fbd50062",
   "metadata": {},
   "outputs": [],
   "source": [
    "import tensorflow as tf\n",
    "\n",
    "# Define placeholders\n",
    "X = tf.placeholder(tf.float32, shape=[None, 784])\n",
    "Y = tf.placeholder(tf.float32, shape=[None, 10])\n",
    "\n",
    "# Define a simple neural network\n",
    "W = tf.Variable(tf.random_normal([784, 10]))\n",
    "b = tf.Variable(tf.random_normal([10]))\n",
    "logits = tf.matmul(X, W) + b\n",
    "\n",
    "# Define loss and optimizer\n",
    "loss = tf.reduce_mean(tf.nn.softmax_cross_entropy_with_logits_v2(labels=Y, logits=logits))\n",
    "optimizer = tf.train.GradientDescentOptimizer(learning_rate=0.5).minimize(loss)\n",
    "\n",
    "# Start a session\n",
    "with tf.Session() as sess:\n",
    "    sess.run(tf.global_variables_initializer())\n",
    "    # Training loop\n",
    "    for epoch in range(1000):\n",
    "        batch_X, batch_Y = get_next_batch()  # Assume this function fetches a batch\n",
    "        sess.run(optimizer, feed_dict={X: batch_X, Y: batch_Y})"
   ]
  },
  {
   "cell_type": "markdown",
   "id": "d5f6d007",
   "metadata": {},
   "source": [
    "Refactored TensorFlow 2.x Code without Placeholders:"
   ]
  },
  {
   "cell_type": "code",
   "execution_count": null,
   "id": "bfefddaa",
   "metadata": {},
   "outputs": [],
   "source": [
    "import tensorflow as tf\n",
    "from tensorflow.keras.models import Sequential\n",
    "from tensorflow.keras.layers import Dense\n",
    "import numpy as np\n",
    "\n",
    "# Define a simple neural network using Keras\n",
    "model = Sequential([\n",
    "    Dense(10, activation='relu', input_shape=(784,)),\n",
    "    Dense(10, activation='softmax')\n",
    "])\n",
    "\n",
    "# Compile the model\n",
    "model.compile(optimizer=tf.keras.optimizers.SGD(learning_rate=0.5),\n",
    "              loss='categorical_crossentropy')\n",
    "\n",
    "# Generate dummy data\n",
    "X_train = np.random.rand(1000, 784)\n",
    "Y_train = tf.keras.utils.to_categorical(np.random.randint(10, size=(1000, 1)), num_classes=10)\n",
    "\n",
    "# Train the model\n",
    "model.fit(X_train, Y_train, epochs=1000, batch_size=32)"
   ]
  }
 ],
 "metadata": {
  "kernelspec": {
   "display_name": "tensorflow_env",
   "language": "python",
   "name": "python3"
  },
  "language_info": {
   "codemirror_mode": {
    "name": "ipython",
    "version": 3
   },
   "file_extension": ".py",
   "mimetype": "text/x-python",
   "name": "python",
   "nbconvert_exporter": "python",
   "pygments_lexer": "ipython3",
   "version": "3.11.13"
  }
 },
 "nbformat": 4,
 "nbformat_minor": 5
}
