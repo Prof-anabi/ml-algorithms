{
 "cells": [
  {
   "cell_type": "markdown",
   "id": "33994196",
   "metadata": {},
   "source": [
    "Static Computational Graphsm"
   ]
  },
  {
   "cell_type": "code",
   "execution_count": null,
   "id": "6a5a13ab",
   "metadata": {},
   "outputs": [
    {
     "ename": "AttributeError",
     "evalue": "module 'tensorflow' has no attribute 'placeholder'",
     "output_type": "error",
     "traceback": [
      "\u001b[31m---------------------------------------------------------------------------\u001b[39m",
      "\u001b[31mAttributeError\u001b[39m                            Traceback (most recent call last)",
      "\u001b[36mCell\u001b[39m\u001b[36m \u001b[39m\u001b[32mIn[2]\u001b[39m\u001b[32m, line 4\u001b[39m\n\u001b[32m      1\u001b[39m \u001b[38;5;28;01mimport\u001b[39;00m\u001b[38;5;250m \u001b[39m\u001b[34;01mtensorflow\u001b[39;00m\u001b[38;5;250m \u001b[39m\u001b[38;5;28;01mas\u001b[39;00m\u001b[38;5;250m \u001b[39m\u001b[34;01mtf\u001b[39;00m\n\u001b[32m      3\u001b[39m \u001b[38;5;66;03m# Define the computational graph\u001b[39;00m\n\u001b[32m----> \u001b[39m\u001b[32m4\u001b[39m a = \u001b[43mtf\u001b[49m\u001b[43m.\u001b[49m\u001b[43mplaceholder\u001b[49m(tf.float32)\n\u001b[32m      5\u001b[39m b = tf.placeholder(tf.float32)\n\u001b[32m      6\u001b[39m c = a + b\n",
      "\u001b[31mAttributeError\u001b[39m: module 'tensorflow' has no attribute 'placeholder'"
     ]
    }
   ],
   "source": [
    "import tensorflow as tf\n",
    "\n",
    "# Define the computational graph\n",
    "a = tf.placeholder(tf.float32)\n",
    "b = tf.placeholder(tf.float32)\n",
    "c = a + b\n",
    "\n",
    "# Create a session to run the graph\n",
    "with tf.Session() as sess:\n",
    "    result = sess.run(c, feed_dict={a: 2.0, b: 3.0})\n",
    "    print(\"Result:\", result)  # Output: Result: 5.0\n",
    "    "
   ]
  },
  {
   "cell_type": "code",
   "execution_count": null,
   "id": "50fcfdbe",
   "metadata": {},
   "outputs": [],
   "source": []
  },
  {
   "cell_type": "code",
   "execution_count": 3,
   "id": "4b937646",
   "metadata": {},
   "outputs": [
    {
     "name": "stdout",
     "output_type": "stream",
     "text": [
      "Result: 5.0\n"
     ]
    }
   ],
   "source": [
    "import tensorflow as tf\n",
    "\n",
    "# Define and execute operations on-the-fly\n",
    "a = tf.constant(2.0)\n",
    "b = tf.constant(3.0)\n",
    "c = a + b\n",
    "print(\"Result:\", c.numpy())  # Output: Result: 5.0"
   ]
  },
  {
   "cell_type": "code",
   "execution_count": null,
   "id": "7d1a284c",
   "metadata": {},
   "outputs": [],
   "source": []
  },
  {
   "cell_type": "markdown",
   "id": "9744df11",
   "metadata": {},
   "source": [
    "#Reshape: Change the shape of a tensor without altering its data.\n",
    "reshaped = tf.reshape(tensor, new_shape)"
   ]
  },
  {
   "cell_type": "code",
   "execution_count": 4,
   "id": "e2d6e0a4",
   "metadata": {},
   "outputs": [
    {
     "name": "stdout",
     "output_type": "stream",
     "text": [
      "Result: 5.0\n"
     ]
    }
   ],
   "source": [
    "# import tensorflow as tf\n",
    "\n",
    "@tf.function\n",
    "def add(a, b):\n",
    "    return a + b\n",
    "\n",
    "# Define tensors\n",
    "a = tf.constant(2.0)\n",
    "b = tf.constant(3.0)\n",
    "\n",
    "# Execute the function\n",
    "result = add(a, b)\n",
    "print(\"Result:\", result.numpy())  # Output: Result: 5.0"
   ]
  },
  {
   "cell_type": "code",
   "execution_count": 5,
   "id": "ceab44eb",
   "metadata": {},
   "outputs": [
    {
     "name": "stdout",
     "output_type": "stream",
     "text": [
      "Result: [5. 7. 9.]\n"
     ]
    }
   ],
   "source": [
    "#import tensorflow as tf\n",
    "\n",
    "# Define tensors\n",
    "a = tf.constant([1.0, 2.0, 3.0])\n",
    "b = tf.constant([4.0, 5.0, 6.0])\n",
    "\n",
    "# Perform operations immediately\n",
    "c = a + b\n",
    "print(\"Result:\", c.numpy())  # Output: Result: [5. 7. 9.]"
   ]
  },
  {
   "cell_type": "code",
   "execution_count": 6,
   "id": "a950984c",
   "metadata": {},
   "outputs": [
    {
     "name": "stdout",
     "output_type": "stream",
     "text": [
      "Result: [5. 7. 9.]\n"
     ]
    }
   ],
   "source": [
    "import tensorflow as tf\n",
    "\n",
    "@tf.function\n",
    "def add(a, b):\n",
    "    return a + b\n",
    "\n",
    "# Define tensors\n",
    "a = tf.constant([1.0, 2.0, 3.0])\n",
    "b = tf.constant([4.0, 5.0, 6.0])\n",
    "\n",
    "# Execute the function\n",
    "c = add(a, b)\n",
    "print(\"Result:\", c.numpy())  # Output: Result: [5. 7. 9.]"
   ]
  },
  {
   "cell_type": "code",
   "execution_count": 7,
   "id": "e6b6ca90",
   "metadata": {},
   "outputs": [
    {
     "name": "stderr",
     "output_type": "stream",
     "text": [
      "f:\\ELSHADAI\\Anaconda\\envs\\tensorflow_env\\Lib\\site-packages\\keras\\src\\layers\\core\\dense.py:93: UserWarning: Do not pass an `input_shape`/`input_dim` argument to a layer. When using Sequential models, prefer using an `Input(shape)` object as the first layer in the model instead.\n",
      "  super().__init__(activity_regularizer=activity_regularizer, **kwargs)\n"
     ]
    },
    {
     "name": "stdout",
     "output_type": "stream",
     "text": [
      "Epoch 1/5\n",
      "\u001b[1m4/4\u001b[0m \u001b[32m━━━━━━━━━━━━━━━━━━━━\u001b[0m\u001b[37m\u001b[0m \u001b[1m14s\u001b[0m 75ms/step - loss: 0.1089\n",
      "Epoch 2/5\n",
      "\u001b[1m4/4\u001b[0m \u001b[32m━━━━━━━━━━━━━━━━━━━━\u001b[0m\u001b[37m\u001b[0m \u001b[1m0s\u001b[0m 17ms/step - loss: 0.1070 \n",
      "Epoch 3/5\n",
      "\u001b[1m4/4\u001b[0m \u001b[32m━━━━━━━━━━━━━━━━━━━━\u001b[0m\u001b[37m\u001b[0m \u001b[1m0s\u001b[0m 16ms/step - loss: 0.1053 \n",
      "Epoch 4/5\n",
      "\u001b[1m4/4\u001b[0m \u001b[32m━━━━━━━━━━━━━━━━━━━━\u001b[0m\u001b[37m\u001b[0m \u001b[1m0s\u001b[0m 21ms/step - loss: 0.1053\n",
      "Epoch 5/5\n",
      "\u001b[1m4/4\u001b[0m \u001b[32m━━━━━━━━━━━━━━━━━━━━\u001b[0m\u001b[37m\u001b[0m \u001b[1m0s\u001b[0m 48ms/step - loss: 0.0997\n",
      "\u001b[1m1/1\u001b[0m \u001b[32m━━━━━━━━━━━━━━━━━━━━\u001b[0m\u001b[37m\u001b[0m \u001b[1m0s\u001b[0m 107ms/step\n",
      "Prediction: [[0.36281356]]\n"
     ]
    }
   ],
   "source": [
    "import tensorflow as tf\n",
    "\n",
    "# Define a simple sequential model\n",
    "model = tf.keras.Sequential([\n",
    "    tf.keras.layers.Dense(10, activation='relu', input_shape=(5,)),\n",
    "    tf.keras.layers.Dense(1)\n",
    "])\n",
    "\n",
    "# Compile the model\n",
    "model.compile(optimizer='adam', loss='mean_squared_error')\n",
    "\n",
    "# Generate dummy data\n",
    "import numpy as np\n",
    "X = np.random.rand(100, 5)\n",
    "y = np.random.rand(100, 1)\n",
    "\n",
    "# Train the model\n",
    "model.fit(X, y, epochs=5)\n",
    "\n",
    "# Make a prediction\n",
    "prediction = model.predict(np.random.rand(1, 5))\n",
    "print(\"Prediction:\", prediction)"
   ]
  },
  {
   "cell_type": "code",
   "execution_count": null,
   "id": "66aa5d61",
   "metadata": {},
   "outputs": [],
   "source": []
  }
 ],
 "metadata": {
  "kernelspec": {
   "display_name": "tensorflow_env",
   "language": "python",
   "name": "python3"
  },
  "language_info": {
   "codemirror_mode": {
    "name": "ipython",
    "version": 3
   },
   "file_extension": ".py",
   "mimetype": "text/x-python",
   "name": "python",
   "nbconvert_exporter": "python",
   "pygments_lexer": "ipython3",
   "version": "3.11.13"
  }
 },
 "nbformat": 4,
 "nbformat_minor": 5
}
